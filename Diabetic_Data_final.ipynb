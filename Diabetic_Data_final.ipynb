{
 "cells": [
  {
   "cell_type": "markdown",
   "metadata": {},
   "source": [
    "# US hospital admissions"
   ]
  },
  {
   "cell_type": "markdown",
   "metadata": {},
   "source": [
    "## Introduction"
   ]
  },
  {
   "cell_type": "markdown",
   "metadata": {},
   "source": [
    "The purpose of this notebook is select and explore variables that could potentially explain the hospital readmission rate of diabetic patients. We will do this by analayzing the 'Diabetes 130-US hospitals' data set, obtained from UCI Machine Learning Repository. The data set contains US hospital admissions from the year 1999 to the year 2008, with 55 atrributes and 100000 number of instances. The data contains such attributes as patient number, race, gender, age, admission type, time in hospital, medical specialty of admitting physician, number of lab test performed, HbA1c test result, diagnosis, number of medication, diabetic medications, number of outpatient, inpatient, and emergency visits in the year before the hospitalization, etc.\n",
    "\n"
   ]
  },
  {
   "cell_type": "markdown",
   "metadata": {},
   "source": [
    "### Variable description"
   ]
  },
  {
   "cell_type": "markdown",
   "metadata": {},
   "source": [
    "<table style=\"border-collapse: collapse; border: none; border-spacing: 0px;\">\n",
    "\t<caption>\n",
    "\t\tVariable Description\n",
    "\t</caption>\n",
    "\t<tr>\n",
    "\t\t<td style=\"text-align: center; padding-right: 3pt; padding-left: 3pt;\">\n",
    "\t\t\t<b>Feature name</b>\n",
    "\t\t</td>\n",
    "\t\t<td style=\"text-align: center; padding-right: 3pt; padding-left: 3pt;\">\n",
    "\t\t\t<b>Type</b>\n",
    "\t\t</td>\n",
    "\t\t<td style=\"text-align: center; padding-right: 3pt; padding-left: 3pt;\">\n",
    "\t\t\t<b>Description and values</b>\n",
    "\t\t</td>\n",
    "\t</tr>\n",
    "\t<tr>\n",
    "\t\t<td style=\"padding-right: 3pt; padding-left: 3pt;\">\n",
    "\t\t\tEncounter ID\n",
    "\t\t</td>\n",
    "\t\t<td style=\"padding-right: 3pt; padding-left: 3pt;\">\n",
    "\t\t\tNumeric\n",
    "\t\t\t<br>\n",
    "\t\t</td>\n",
    "\t\t<td style=\"padding-right: 3pt; padding-left: 3pt;\">\n",
    "\t\t\tUnique identifier of an encounter\n",
    "\t\t</td>\n",
    "\t</tr>\n",
    "\t<tr>\n",
    "\t\t<td style=\"padding-right: 3pt; padding-left: 3pt;\">\n",
    "\t\t\tPatient number\n",
    "\t\t\t<br>\n",
    "\t\t</td>\n",
    "\t\t<td style=\"padding-right: 3pt; padding-left: 3pt;\">\n",
    "\t\t\tNumeric\n",
    "\t\t</td>\n",
    "\t\t<td style=\"padding-right: 3pt; padding-left: 3pt;\">\n",
    "\t\t\tUnique identifier of a patient\n",
    "\t\t</td>\n",
    "\t</tr>\n",
    "\t<tr>\n",
    "\t\t<td style=\"padding-right: 3pt; padding-left: 3pt;\">\n",
    "\t\t\tRace\n",
    "\t\t</td>\n",
    "\t\t<td style=\"padding-right: 3pt; padding-left: 3pt;\">\n",
    "\t\t\tNominal\n",
    "\t\t\t<br>\n",
    "\t\t</td>\n",
    "\t\t<td style=\"padding-right: 3pt; padding-left: 3pt;\">\n",
    "\t\t\tValues: Caucasian, Asian, African American, Hispanic, and other\n",
    "\t\t</td>\n",
    "\t</tr>\n",
    "\t<tr>\n",
    "\t\t<td style=\"padding-right: 3pt; padding-left: 3pt;\">\n",
    "\t\t\tGender\n",
    "\t\t</td>\n",
    "\t\t<td style=\"padding-right: 3pt; padding-left: 3pt;\">\n",
    "\t\t\tNominal\n",
    "\t\t\t<br>\n",
    "\t\t</td>\n",
    "\t\t<td style=\"padding-right: 3pt; padding-left: 3pt;\">\n",
    "\t\t\tValues: male, female, and unknown/invalid\n",
    "\t\t</td>\n",
    "\t</tr>\n",
    "\t<tr>\n",
    "\t\t<td style=\"padding-right: 3pt; padding-left: 3pt;\">\n",
    "\t\t\tAge\n",
    "\t\t</td>\n",
    "\t\t<td style=\"padding-right: 3pt; padding-left: 3pt;\">\n",
    "\t\t\tNominal\n",
    "\t\t\t<br>\n",
    "\t\t</td>\n",
    "\t\t<td style=\"padding-right: 3pt; padding-left: 3pt;\">\n",
    "\t\t\tGrouped in 10-year intervals:&nbsp;0, 10),&nbsp;10, 20), …,&nbsp;90, 100)\n",
    "\t\t</td>\n",
    "\t</tr>\n",
    "\t<tr>\n",
    "\t\t<td style=\"padding-right: 3pt; padding-left: 3pt;\">\n",
    "\t\t\tWeight\n",
    "\t\t</td>\n",
    "\t\t<td style=\"padding-right: 3pt; padding-left: 3pt;\">\n",
    "\t\t\tNumeric\n",
    "\t\t</td>\n",
    "\t\t<td style=\"padding-right: 3pt; padding-left: 3pt;\">\n",
    "\t\t\tWeight in pounds.\n",
    "\t\t</td>\n",
    "\t</tr>\n",
    "\t<tr>\n",
    "\t\t<td style=\"padding-right: 3pt; padding-left: 3pt;\">\n",
    "\t\t\tAdmission type\n",
    "\t\t</td>\n",
    "\t\t<td style=\"padding-right: 3pt; padding-left: 3pt;\">\n",
    "\t\t\tNominal\n",
    "\t\t</td>\n",
    "\t\t<td style=\"padding-right: 3pt; padding-left: 3pt;\">\n",
    "\t\t\tInteger identifier corresponding to 9 distinct values, for example, emergency, urgent, elective, newborn, and not available\n",
    "\t\t</td>\n",
    "\t</tr>\n",
    "\t<tr>\n",
    "\t\t<td style=\"padding-right: 3pt; padding-left: 3pt;\">\n",
    "\t\t\tDischarge disposition\n",
    "\t\t</td>\n",
    "\t\t<td style=\"padding-right: 3pt; padding-left: 3pt;\">\n",
    "\t\t\tNominal\n",
    "\t\t</td>\n",
    "\t\t<td style=\"padding-right: 3pt; padding-left: 3pt;\">\n",
    "\t\t\tInteger identifier corresponding to 29 distinct values, for example, discharged to home, expired, and not available\n",
    "\t\t</td>\n",
    "\t</tr>\n",
    "\t<tr>\n",
    "\t\t<td style=\"padding-right: 3pt; padding-left: 3pt;\">\n",
    "\t\t\tAdmission source\n",
    "\t\t</td>\n",
    "\t\t<td style=\"padding-right: 3pt; padding-left: 3pt;\">\n",
    "\t\t\tNominal\n",
    "\t\t</td>\n",
    "\t\t<td style=\"padding-right: 3pt; padding-left: 3pt;\">\n",
    "\t\t\tInteger identifier corresponding to 21 distinct values, for example, physician referral, emergency room, and transfer from a hospital\n",
    "\t\t</td>\n",
    "\t</tr>\n",
    "\t<tr>\n",
    "\t\t<td style=\"padding-right: 3pt; padding-left: 3pt;\">\n",
    "\t\t\tTime in hospital\n",
    "\t\t</td>\n",
    "\t\t<td style=\"padding-right: 3pt; padding-left: 3pt;\">\n",
    "\t\t\tNumeric\n",
    "\t\t</td>\n",
    "\t\t<td style=\"padding-right: 3pt; padding-left: 3pt;\">\n",
    "\t\t\tInteger number of days between admission and discharge\n",
    "\t\t</td>\n",
    "\t</tr>\n",
    "\t<tr>\n",
    "\t\t<td style=\"padding-right: 3pt; padding-left: 3pt;\">\n",
    "\t\t\tPayer code\n",
    "\t\t</td>\n",
    "\t\t<td style=\"padding-right: 3pt; padding-left: 3pt;\">\n",
    "\t\t\tNominal\n",
    "\t\t</td>\n",
    "\t\t<td style=\"padding-right: 3pt; padding-left: 3pt;\">\n",
    "\t\t\tInteger identifier corresponding to 23 distinct values, for example, Blue Cross<i>/</i>Blue Shield, Medicare, and self-pay\n",
    "\t\t</td>\n",
    "\t</tr>\n",
    "\t<tr>\n",
    "\t\t<td style=\"padding-right: 3pt; padding-left: 3pt;\">\n",
    "\t\t\tMedical specialty\n",
    "\t\t</td>\n",
    "\t\t<td style=\"padding-right: 3pt; padding-left: 3pt;\">\n",
    "\t\t\tNominal\n",
    "\t\t</td>\n",
    "\t\t<td style=\"padding-right: 3pt; padding-left: 3pt;\">\n",
    "\t\t\tInteger identifier of a specialty of the admitting physician, corresponding to 84 distinct values, for example, cardiology, internal medicine, family<i>/</i>general practice, and surgeon\n",
    "\t\t</td>\n",
    "\t</tr>\n",
    "\t<tr>\n",
    "\t\t<td style=\"padding-right: 3pt; padding-left: 3pt;\">\n",
    "\t\t\tNumber of lab procedures\n",
    "\t\t</td>\n",
    "\t\t<td style=\"padding-right: 3pt; padding-left: 3pt;\">\n",
    "\t\t\tNumeric\n",
    "\t\t\t<br>\n",
    "\t\t</td>\n",
    "\t\t<td style=\"padding-right: 3pt; padding-left: 3pt;\">\n",
    "\t\t\tNumber of lab tests performed during the encounter\n",
    "\t\t</td>\n",
    "\t</tr>\n",
    "\t<tr>\n",
    "\t\t<td style=\"padding-right: 3pt; padding-left: 3pt;\">\n",
    "\t\t\tNumber of procedures\n",
    "\t\t</td>\n",
    "\t\t<td style=\"padding-right: 3pt; padding-left: 3pt;\">\n",
    "\t\t\tNumeric\n",
    "\t\t\t<br>\n",
    "\t\t</td>\n",
    "\t\t<td style=\"padding-right: 3pt; padding-left: 3pt;\">\n",
    "\t\t\tNumber of procedures (other than lab tests) performed during the encounter\n",
    "\t\t</td>\n",
    "\t</tr>\n",
    "\t<tr>\n",
    "\t\t<td style=\"padding-right: 3pt; padding-left: 3pt;\">\n",
    "\t\t\tNumber of medications\n",
    "\t\t</td>\n",
    "\t\t<td style=\"padding-right: 3pt; padding-left: 3pt;\">\n",
    "\t\t\tNumeric\n",
    "\t\t</td>\n",
    "\t\t<td style=\"padding-right: 3pt; padding-left: 3pt;\">\n",
    "\t\t\tNumber of distinct generic names administered during the encounter\n",
    "\t\t</td>\n",
    "\t</tr>\n",
    "\t<tr>\n",
    "\t\t<td style=\"padding-right: 3pt; padding-left: 3pt;\">\n",
    "\t\t\tNumber of outpatient visits\n",
    "\t\t</td>\n",
    "\t\t<td style=\"padding-right: 3pt; padding-left: 3pt;\">\n",
    "\t\t\tNumeric\n",
    "\t\t</td>\n",
    "\t\t<td style=\"padding-right: 3pt; padding-left: 3pt;\">\n",
    "\t\t\tNumber of outpatient visits of the patient in the year preceding the encounter\n",
    "\t\t</td>\n",
    "\t</tr>\n",
    "\t<tr>\n",
    "\t\t<td style=\"padding-right: 3pt; padding-left: 3pt;\">\n",
    "\t\t\tNumber of emergency visits\n",
    "\t\t</td>\n",
    "\t\t<td style=\"padding-right: 3pt; padding-left: 3pt;\">\n",
    "\t\t\tNumeric\n",
    "\t\t</td>\n",
    "\t\t<td style=\"padding-right: 3pt; padding-left: 3pt;\">\n",
    "\t\t\tNumber of emergency visits of the patient in the year preceding the encounter\n",
    "\t\t</td>\n",
    "\t</tr>\n",
    "\t<tr>\n",
    "\t\t<td style=\"padding-right: 3pt; padding-left: 3pt;\">\n",
    "\t\t\tNumber of inpatient visits\n",
    "\t\t</td>\n",
    "\t\t<td style=\"padding-right: 3pt; padding-left: 3pt;\">\n",
    "\t\t\tNumeric\n",
    "\t\t</td>\n",
    "\t\t<td style=\"padding-right: 3pt; padding-left: 3pt;\">\n",
    "\t\t\tNumber of inpatient visits of the patient in the year preceding the encounter\n",
    "\t\t</td>\n",
    "\t</tr>\n",
    "\t<tr>\n",
    "\t\t<td style=\"padding-right: 3pt; padding-left: 3pt;\">\n",
    "\t\t\tDiagnosis 1\n",
    "\t\t\t<br>\n",
    "\t\t</td>\n",
    "\t\t<td style=\"padding-right: 3pt; padding-left: 3pt;\">\n",
    "\t\t\tNominal\n",
    "\t\t</td>\n",
    "\t\t<td style=\"padding-right: 3pt; padding-left: 3pt;\">\n",
    "\t\t\tThe primary diagnosis (coded as first three digits of ICD9); 848 distinct values\n",
    "\t\t</td>\n",
    "\t</tr>\n",
    "\t<tr>\n",
    "\t\t<td style=\"padding-right: 3pt; padding-left: 3pt;\">\n",
    "\t\t\tDiagnosis 2\n",
    "\t\t</td>\n",
    "\t\t<td style=\"padding-right: 3pt; padding-left: 3pt;\">\n",
    "\t\t\tNominal\n",
    "\t\t</td>\n",
    "\t\t<td style=\"padding-right: 3pt; padding-left: 3pt;\">\n",
    "\t\t\tSecondary diagnosis (coded as first three digits of ICD9); 923 distinct values\n",
    "\t\t</td>\n",
    "\t</tr>\n",
    "\t<tr>\n",
    "\t\t<td style=\"padding-right: 3pt; padding-left: 3pt;\">\n",
    "\t\t\tDiagnosis 3\n",
    "\t\t</td>\n",
    "\t\t<td style=\"padding-right: 3pt; padding-left: 3pt;\">\n",
    "\t\t\tNominal\n",
    "\t\t</td>\n",
    "\t\t<td style=\"padding-right: 3pt; padding-left: 3pt;\">\n",
    "\t\t\tAdditional secondary diagnosis (coded as first three digits of ICD9); 954 distinct values\n",
    "\t\t</td>\n",
    "\t</tr>\n",
    "\t<tr>\n",
    "\t\t<td style=\"padding-right: 3pt; padding-left: 3pt;\">\n",
    "\t\t\tNumber of diagnoses\n",
    "\t\t\t<br>\n",
    "\t\t</td>\n",
    "\t\t<td style=\"padding-right: 3pt; padding-left: 3pt;\">\n",
    "\t\t\tNumeric\n",
    "\t\t\t<br>\n",
    "\t\t</td>\n",
    "\t\t<td style=\"padding-right: 3pt; padding-left: 3pt;\">\n",
    "\t\t\tNumber of diagnoses entered to the system\n",
    "\t\t</td>\n",
    "\t</tr>\n",
    "\t<tr>\n",
    "\t\t<td style=\"padding-right: 3pt; padding-left: 3pt;\">\n",
    "\t\t\tGlucose serum test result\n",
    "\t\t</td>\n",
    "\t\t<td style=\"padding-right: 3pt; padding-left: 3pt;\">\n",
    "\t\t\tNominal\n",
    "\t\t</td>\n",
    "\t\t<td style=\"padding-right: 3pt; padding-left: 3pt;\">\n",
    "\t\t\tIndicates the range of the result or if the test was not taken. Values: “&gt;200,” “&gt;300,” “normal,” and “none” if not measured\n",
    "\t\t</td>\n",
    "\t</tr>\n",
    "\t<tr>\n",
    "\t\t<td style=\"padding-right: 3pt; padding-left: 3pt;\">\n",
    "\t\t\tA1c test result\n",
    "\t\t</td>\n",
    "\t\t<td style=\"padding-right: 3pt; padding-left: 3pt;\">\n",
    "\t\t\tNominal\n",
    "\t\t</td>\n",
    "\t\t<td style=\"padding-right: 3pt; padding-left: 3pt;\">\n",
    "\t\t\tIndicates the range of the result or if the test was not taken. Values: “&gt;8” if the result was greater than 8%, “&gt;7” if the result was greater than 7% but less than 8%, “normal” if the result was less than 7%, and “none” if not measured.\n",
    "\t\t</td>\n",
    "\t</tr>\n",
    "\t<tr>\n",
    "\t\t<td style=\"padding-right: 3pt; padding-left: 3pt;\">\n",
    "\t\t\tChange of medications\n",
    "\t\t</td>\n",
    "\t\t<td style=\"padding-right: 3pt; padding-left: 3pt;\">\n",
    "\t\t\tNominal\n",
    "\t\t</td>\n",
    "\t\t<td style=\"padding-right: 3pt; padding-left: 3pt;\">\n",
    "\t\t\tIndicates if there was a change in diabetic medications (either dosage or generic name). Values: “change” and “no change”\n",
    "\t\t</td>\n",
    "\t</tr>\n",
    "\t<tr>\n",
    "\t\t<td style=\"padding-right: 3pt; padding-left: 3pt;\">\n",
    "\t\t\tDiabetes medications\n",
    "\t\t</td>\n",
    "\t\t<td style=\"padding-right: 3pt; padding-left: 3pt;\">\n",
    "\t\t\tNominal\n",
    "\t\t</td>\n",
    "\t\t<td style=\"padding-right: 3pt; padding-left: 3pt;\">\n",
    "\t\t\tIndicates if there was any diabetic medication prescribed. Values: “yes” and “no”\n",
    "\t\t</td>\n",
    "\t</tr>\n",
    "\t<tr>\n",
    "\t\t<td style=\"padding-right: 3pt; padding-left: 3pt;\">\n",
    "\t\t\t24 features for medications\n",
    "\t\t</td>\n",
    "\t\t<td style=\"padding-right: 3pt; padding-left: 3pt;\">\n",
    "\t\t\tNominal\n",
    "\t\t</td>\n",
    "\t\t<td style=\"padding-right: 3pt; padding-left: 3pt;\">\n",
    "\t\t\tFor the generic names: metformin, repaglinide, nateglinide, chlorpropamide, glimepiride, acetohexamide, glipizide, glyburide, tolbutamide, pioglitazone, rosiglitazone, acarbose, miglitol, troglitazone, tolazamide, examide, sitagliptin, insulin, glyburide-metformin, glipizide-metformin, glimepiride-pioglitazone, metformin-rosiglitazone, and metformin-pioglitazone, the feature indicates whether the drug was prescribed or there was a change in the dosage. Values: “up” if the dosage was increased during the encounter, “down” if the dosage was decreased, “steady” if the dosage did not change, and “no” if the drug was not prescribed\n",
    "\t\t</td>\n",
    "\t</tr>\n",
    "\t<tr>\n",
    "\t\t<td style=\"padding-right: 3pt; padding-left: 3pt;\">\n",
    "\t\t\tReadmitted\n",
    "\t\t</td>\n",
    "\t\t<td style=\"padding-right: 3pt; padding-left: 3pt;\">\n",
    "\t\t\tNominal\n",
    "\t\t</td>\n",
    "\t\t<td style=\"padding-right: 3pt; padding-left: 3pt;\">\n",
    "\t\t\tDays to inpatient readmission. Values: “&lt;30” if the patient was readmitted in less than 30 days, “&gt;30” if the patient was readmitted in more than 30 days, and “No” for no record of readmission.\n",
    "\t\t</td>\n",
    "\t</tr>\n",
    "</table>"
   ]
  },
  {
   "cell_type": "markdown",
   "metadata": {},
   "source": [
    "### Notebook Overview\n",
    "\n",
    "add something similar to table of content here"
   ]
  },
  {
   "cell_type": "markdown",
   "metadata": {},
   "source": [
    "# Data preperation\n",
    "In this section, we will explore our dataset by looking at at aspects of data quality, feature selection as well as data cleaning(e.g, taking care of missing values)"
   ]
  },
  {
   "cell_type": "code",
   "execution_count": 40,
   "metadata": {},
   "outputs": [],
   "source": [
    "import pandas as pd\n",
    "import numpy as np\n",
    "from sklearn.feature_selection import RFE\n",
    "from sklearn.linear_model import LogisticRegression\n",
    "import matplotlib.pyplot as plt\n",
    "from pandas import read_csv\n",
    "from numpy import set_printoptions\n",
    "from sklearn.feature_selection import SelectKBest\n",
    "from sklearn.feature_selection import f_classif\n",
    "import math\n",
    "import seaborn as sns \n",
    "from sklearn.preprocessing import LabelEncoder\n",
    "from sklearn.preprocessing import OneHotEncoder\n",
    "from sklearn.model_selection import train_test_split\n",
    "#from pyod.models.abod import ABOD\n",
    "#from pyod.models.knn import KNN\n",
    "#from pyod.utils.data import get_outliers_inliers\n",
    "from scipy import stats\n",
    "from scipy.stats import norm"
   ]
  },
  {
   "cell_type": "code",
   "execution_count": 6,
   "metadata": {},
   "outputs": [],
   "source": [
    "df = pd.read_csv('diabetic_data.csv')\n",
    "df1 = df.copy()              "
   ]
  },
  {
   "cell_type": "code",
   "execution_count": 7,
   "metadata": {},
   "outputs": [
    {
     "name": "stdout",
     "output_type": "stream",
     "text": [
      "<class 'pandas.core.frame.DataFrame'>\n",
      "RangeIndex: 101766 entries, 0 to 101765\n",
      "Data columns (total 50 columns):\n",
      " #   Column                    Non-Null Count   Dtype \n",
      "---  ------                    --------------   ----- \n",
      " 0   encounter_id              101766 non-null  int64 \n",
      " 1   patient_nbr               101766 non-null  int64 \n",
      " 2   race                      101766 non-null  object\n",
      " 3   gender                    101766 non-null  object\n",
      " 4   age                       101766 non-null  object\n",
      " 5   weight                    101766 non-null  object\n",
      " 6   admission_type_id         101766 non-null  int64 \n",
      " 7   discharge_disposition_id  101766 non-null  int64 \n",
      " 8   admission_source_id       101766 non-null  int64 \n",
      " 9   time_in_hospital          101766 non-null  int64 \n",
      " 10  payer_code                101766 non-null  object\n",
      " 11  medical_specialty         101766 non-null  object\n",
      " 12  num_lab_procedures        101766 non-null  int64 \n",
      " 13  num_procedures            101766 non-null  int64 \n",
      " 14  num_medications           101766 non-null  int64 \n",
      " 15  number_outpatient         101766 non-null  int64 \n",
      " 16  number_emergency          101766 non-null  int64 \n",
      " 17  number_inpatient          101766 non-null  int64 \n",
      " 18  diag_1                    101766 non-null  object\n",
      " 19  diag_2                    101766 non-null  object\n",
      " 20  diag_3                    101766 non-null  object\n",
      " 21  number_diagnoses          101766 non-null  int64 \n",
      " 22  max_glu_serum             101766 non-null  object\n",
      " 23  A1Cresult                 101766 non-null  object\n",
      " 24  metformin                 101766 non-null  object\n",
      " 25  repaglinide               101766 non-null  object\n",
      " 26  nateglinide               101766 non-null  object\n",
      " 27  chlorpropamide            101766 non-null  object\n",
      " 28  glimepiride               101766 non-null  object\n",
      " 29  acetohexamide             101766 non-null  object\n",
      " 30  glipizide                 101766 non-null  object\n",
      " 31  glyburide                 101766 non-null  object\n",
      " 32  tolbutamide               101766 non-null  object\n",
      " 33  pioglitazone              101766 non-null  object\n",
      " 34  rosiglitazone             101766 non-null  object\n",
      " 35  acarbose                  101766 non-null  object\n",
      " 36  miglitol                  101766 non-null  object\n",
      " 37  troglitazone              101766 non-null  object\n",
      " 38  tolazamide                101766 non-null  object\n",
      " 39  examide                   101766 non-null  object\n",
      " 40  citoglipton               101766 non-null  object\n",
      " 41  insulin                   101766 non-null  object\n",
      " 42  glyburide-metformin       101766 non-null  object\n",
      " 43  glipizide-metformin       101766 non-null  object\n",
      " 44  glimepiride-pioglitazone  101766 non-null  object\n",
      " 45  metformin-rosiglitazone   101766 non-null  object\n",
      " 46  metformin-pioglitazone    101766 non-null  object\n",
      " 47  change                    101766 non-null  object\n",
      " 48  diabetesMed               101766 non-null  object\n",
      " 49  readmitted                101766 non-null  object\n",
      "dtypes: int64(13), object(37)\n",
      "memory usage: 38.8+ MB\n"
     ]
    }
   ],
   "source": [
    "# check data types\n",
    "df1.info()"
   ]
  },
  {
   "cell_type": "markdown",
   "metadata": {},
   "source": [
    "We will now look at the basic statistics for each datatype:"
   ]
  },
  {
   "cell_type": "code",
   "execution_count": 8,
   "metadata": {},
   "outputs": [
    {
     "data": {
      "text/html": [
       "<div>\n",
       "<style scoped>\n",
       "    .dataframe tbody tr th:only-of-type {\n",
       "        vertical-align: middle;\n",
       "    }\n",
       "\n",
       "    .dataframe tbody tr th {\n",
       "        vertical-align: top;\n",
       "    }\n",
       "\n",
       "    .dataframe thead th {\n",
       "        text-align: right;\n",
       "    }\n",
       "</style>\n",
       "<table border=\"1\" class=\"dataframe\">\n",
       "  <thead>\n",
       "    <tr style=\"text-align: right;\">\n",
       "      <th></th>\n",
       "      <th>encounter_id</th>\n",
       "      <th>patient_nbr</th>\n",
       "      <th>admission_type_id</th>\n",
       "      <th>discharge_disposition_id</th>\n",
       "      <th>admission_source_id</th>\n",
       "      <th>time_in_hospital</th>\n",
       "      <th>num_lab_procedures</th>\n",
       "      <th>num_procedures</th>\n",
       "      <th>num_medications</th>\n",
       "      <th>number_outpatient</th>\n",
       "      <th>number_emergency</th>\n",
       "      <th>number_inpatient</th>\n",
       "      <th>number_diagnoses</th>\n",
       "    </tr>\n",
       "  </thead>\n",
       "  <tbody>\n",
       "    <tr>\n",
       "      <th>count</th>\n",
       "      <td>1.017660e+05</td>\n",
       "      <td>1.017660e+05</td>\n",
       "      <td>101766.000000</td>\n",
       "      <td>101766.000000</td>\n",
       "      <td>101766.000000</td>\n",
       "      <td>101766.000000</td>\n",
       "      <td>101766.000000</td>\n",
       "      <td>101766.000000</td>\n",
       "      <td>101766.000000</td>\n",
       "      <td>101766.000000</td>\n",
       "      <td>101766.000000</td>\n",
       "      <td>101766.000000</td>\n",
       "      <td>101766.000000</td>\n",
       "    </tr>\n",
       "    <tr>\n",
       "      <th>mean</th>\n",
       "      <td>1.652016e+08</td>\n",
       "      <td>5.433040e+07</td>\n",
       "      <td>2.024006</td>\n",
       "      <td>3.715642</td>\n",
       "      <td>5.754437</td>\n",
       "      <td>4.395987</td>\n",
       "      <td>43.095641</td>\n",
       "      <td>1.339730</td>\n",
       "      <td>16.021844</td>\n",
       "      <td>0.369357</td>\n",
       "      <td>0.197836</td>\n",
       "      <td>0.635566</td>\n",
       "      <td>7.422607</td>\n",
       "    </tr>\n",
       "    <tr>\n",
       "      <th>std</th>\n",
       "      <td>1.026403e+08</td>\n",
       "      <td>3.869636e+07</td>\n",
       "      <td>1.445403</td>\n",
       "      <td>5.280166</td>\n",
       "      <td>4.064081</td>\n",
       "      <td>2.985108</td>\n",
       "      <td>19.674362</td>\n",
       "      <td>1.705807</td>\n",
       "      <td>8.127566</td>\n",
       "      <td>1.267265</td>\n",
       "      <td>0.930472</td>\n",
       "      <td>1.262863</td>\n",
       "      <td>1.933600</td>\n",
       "    </tr>\n",
       "    <tr>\n",
       "      <th>min</th>\n",
       "      <td>1.252200e+04</td>\n",
       "      <td>1.350000e+02</td>\n",
       "      <td>1.000000</td>\n",
       "      <td>1.000000</td>\n",
       "      <td>1.000000</td>\n",
       "      <td>1.000000</td>\n",
       "      <td>1.000000</td>\n",
       "      <td>0.000000</td>\n",
       "      <td>1.000000</td>\n",
       "      <td>0.000000</td>\n",
       "      <td>0.000000</td>\n",
       "      <td>0.000000</td>\n",
       "      <td>1.000000</td>\n",
       "    </tr>\n",
       "    <tr>\n",
       "      <th>25%</th>\n",
       "      <td>8.496119e+07</td>\n",
       "      <td>2.341322e+07</td>\n",
       "      <td>1.000000</td>\n",
       "      <td>1.000000</td>\n",
       "      <td>1.000000</td>\n",
       "      <td>2.000000</td>\n",
       "      <td>31.000000</td>\n",
       "      <td>0.000000</td>\n",
       "      <td>10.000000</td>\n",
       "      <td>0.000000</td>\n",
       "      <td>0.000000</td>\n",
       "      <td>0.000000</td>\n",
       "      <td>6.000000</td>\n",
       "    </tr>\n",
       "    <tr>\n",
       "      <th>50%</th>\n",
       "      <td>1.523890e+08</td>\n",
       "      <td>4.550514e+07</td>\n",
       "      <td>1.000000</td>\n",
       "      <td>1.000000</td>\n",
       "      <td>7.000000</td>\n",
       "      <td>4.000000</td>\n",
       "      <td>44.000000</td>\n",
       "      <td>1.000000</td>\n",
       "      <td>15.000000</td>\n",
       "      <td>0.000000</td>\n",
       "      <td>0.000000</td>\n",
       "      <td>0.000000</td>\n",
       "      <td>8.000000</td>\n",
       "    </tr>\n",
       "    <tr>\n",
       "      <th>75%</th>\n",
       "      <td>2.302709e+08</td>\n",
       "      <td>8.754595e+07</td>\n",
       "      <td>3.000000</td>\n",
       "      <td>4.000000</td>\n",
       "      <td>7.000000</td>\n",
       "      <td>6.000000</td>\n",
       "      <td>57.000000</td>\n",
       "      <td>2.000000</td>\n",
       "      <td>20.000000</td>\n",
       "      <td>0.000000</td>\n",
       "      <td>0.000000</td>\n",
       "      <td>1.000000</td>\n",
       "      <td>9.000000</td>\n",
       "    </tr>\n",
       "    <tr>\n",
       "      <th>max</th>\n",
       "      <td>4.438672e+08</td>\n",
       "      <td>1.895026e+08</td>\n",
       "      <td>8.000000</td>\n",
       "      <td>28.000000</td>\n",
       "      <td>25.000000</td>\n",
       "      <td>14.000000</td>\n",
       "      <td>132.000000</td>\n",
       "      <td>6.000000</td>\n",
       "      <td>81.000000</td>\n",
       "      <td>42.000000</td>\n",
       "      <td>76.000000</td>\n",
       "      <td>21.000000</td>\n",
       "      <td>16.000000</td>\n",
       "    </tr>\n",
       "  </tbody>\n",
       "</table>\n",
       "</div>"
      ],
      "text/plain": [
       "       encounter_id   patient_nbr  admission_type_id  \\\n",
       "count  1.017660e+05  1.017660e+05      101766.000000   \n",
       "mean   1.652016e+08  5.433040e+07           2.024006   \n",
       "std    1.026403e+08  3.869636e+07           1.445403   \n",
       "min    1.252200e+04  1.350000e+02           1.000000   \n",
       "25%    8.496119e+07  2.341322e+07           1.000000   \n",
       "50%    1.523890e+08  4.550514e+07           1.000000   \n",
       "75%    2.302709e+08  8.754595e+07           3.000000   \n",
       "max    4.438672e+08  1.895026e+08           8.000000   \n",
       "\n",
       "       discharge_disposition_id  admission_source_id  time_in_hospital  \\\n",
       "count             101766.000000        101766.000000     101766.000000   \n",
       "mean                   3.715642             5.754437          4.395987   \n",
       "std                    5.280166             4.064081          2.985108   \n",
       "min                    1.000000             1.000000          1.000000   \n",
       "25%                    1.000000             1.000000          2.000000   \n",
       "50%                    1.000000             7.000000          4.000000   \n",
       "75%                    4.000000             7.000000          6.000000   \n",
       "max                   28.000000            25.000000         14.000000   \n",
       "\n",
       "       num_lab_procedures  num_procedures  num_medications  number_outpatient  \\\n",
       "count       101766.000000   101766.000000    101766.000000      101766.000000   \n",
       "mean            43.095641        1.339730        16.021844           0.369357   \n",
       "std             19.674362        1.705807         8.127566           1.267265   \n",
       "min              1.000000        0.000000         1.000000           0.000000   \n",
       "25%             31.000000        0.000000        10.000000           0.000000   \n",
       "50%             44.000000        1.000000        15.000000           0.000000   \n",
       "75%             57.000000        2.000000        20.000000           0.000000   \n",
       "max            132.000000        6.000000        81.000000          42.000000   \n",
       "\n",
       "       number_emergency  number_inpatient  number_diagnoses  \n",
       "count     101766.000000     101766.000000     101766.000000  \n",
       "mean           0.197836          0.635566          7.422607  \n",
       "std            0.930472          1.262863          1.933600  \n",
       "min            0.000000          0.000000          1.000000  \n",
       "25%            0.000000          0.000000          6.000000  \n",
       "50%            0.000000          0.000000          8.000000  \n",
       "75%            0.000000          1.000000          9.000000  \n",
       "max           76.000000         21.000000         16.000000  "
      ]
     },
     "execution_count": 8,
     "metadata": {},
     "output_type": "execute_result"
    }
   ],
   "source": [
    "df1.describe()"
   ]
  },
  {
   "cell_type": "code",
   "execution_count": 9,
   "metadata": {},
   "outputs": [
    {
     "data": {
      "text/html": [
       "<div>\n",
       "<style scoped>\n",
       "    .dataframe tbody tr th:only-of-type {\n",
       "        vertical-align: middle;\n",
       "    }\n",
       "\n",
       "    .dataframe tbody tr th {\n",
       "        vertical-align: top;\n",
       "    }\n",
       "\n",
       "    .dataframe thead th {\n",
       "        text-align: right;\n",
       "    }\n",
       "</style>\n",
       "<table border=\"1\" class=\"dataframe\">\n",
       "  <thead>\n",
       "    <tr style=\"text-align: right;\">\n",
       "      <th></th>\n",
       "      <th>race</th>\n",
       "      <th>gender</th>\n",
       "      <th>age</th>\n",
       "      <th>weight</th>\n",
       "      <th>payer_code</th>\n",
       "      <th>medical_specialty</th>\n",
       "      <th>diag_1</th>\n",
       "      <th>diag_2</th>\n",
       "      <th>diag_3</th>\n",
       "      <th>max_glu_serum</th>\n",
       "      <th>...</th>\n",
       "      <th>citoglipton</th>\n",
       "      <th>insulin</th>\n",
       "      <th>glyburide-metformin</th>\n",
       "      <th>glipizide-metformin</th>\n",
       "      <th>glimepiride-pioglitazone</th>\n",
       "      <th>metformin-rosiglitazone</th>\n",
       "      <th>metformin-pioglitazone</th>\n",
       "      <th>change</th>\n",
       "      <th>diabetesMed</th>\n",
       "      <th>readmitted</th>\n",
       "    </tr>\n",
       "  </thead>\n",
       "  <tbody>\n",
       "    <tr>\n",
       "      <th>count</th>\n",
       "      <td>101766</td>\n",
       "      <td>101766</td>\n",
       "      <td>101766</td>\n",
       "      <td>101766</td>\n",
       "      <td>101766</td>\n",
       "      <td>101766</td>\n",
       "      <td>101766</td>\n",
       "      <td>101766</td>\n",
       "      <td>101766</td>\n",
       "      <td>101766</td>\n",
       "      <td>...</td>\n",
       "      <td>101766</td>\n",
       "      <td>101766</td>\n",
       "      <td>101766</td>\n",
       "      <td>101766</td>\n",
       "      <td>101766</td>\n",
       "      <td>101766</td>\n",
       "      <td>101766</td>\n",
       "      <td>101766</td>\n",
       "      <td>101766</td>\n",
       "      <td>101766</td>\n",
       "    </tr>\n",
       "    <tr>\n",
       "      <th>unique</th>\n",
       "      <td>6</td>\n",
       "      <td>3</td>\n",
       "      <td>10</td>\n",
       "      <td>10</td>\n",
       "      <td>18</td>\n",
       "      <td>73</td>\n",
       "      <td>717</td>\n",
       "      <td>749</td>\n",
       "      <td>790</td>\n",
       "      <td>4</td>\n",
       "      <td>...</td>\n",
       "      <td>1</td>\n",
       "      <td>4</td>\n",
       "      <td>4</td>\n",
       "      <td>2</td>\n",
       "      <td>2</td>\n",
       "      <td>2</td>\n",
       "      <td>2</td>\n",
       "      <td>2</td>\n",
       "      <td>2</td>\n",
       "      <td>3</td>\n",
       "    </tr>\n",
       "    <tr>\n",
       "      <th>top</th>\n",
       "      <td>Caucasian</td>\n",
       "      <td>Female</td>\n",
       "      <td>[70-80)</td>\n",
       "      <td>?</td>\n",
       "      <td>?</td>\n",
       "      <td>?</td>\n",
       "      <td>428</td>\n",
       "      <td>276</td>\n",
       "      <td>250</td>\n",
       "      <td>None</td>\n",
       "      <td>...</td>\n",
       "      <td>No</td>\n",
       "      <td>No</td>\n",
       "      <td>No</td>\n",
       "      <td>No</td>\n",
       "      <td>No</td>\n",
       "      <td>No</td>\n",
       "      <td>No</td>\n",
       "      <td>No</td>\n",
       "      <td>Yes</td>\n",
       "      <td>NO</td>\n",
       "    </tr>\n",
       "    <tr>\n",
       "      <th>freq</th>\n",
       "      <td>76099</td>\n",
       "      <td>54708</td>\n",
       "      <td>26068</td>\n",
       "      <td>98569</td>\n",
       "      <td>40256</td>\n",
       "      <td>49949</td>\n",
       "      <td>6862</td>\n",
       "      <td>6752</td>\n",
       "      <td>11555</td>\n",
       "      <td>96420</td>\n",
       "      <td>...</td>\n",
       "      <td>101766</td>\n",
       "      <td>47383</td>\n",
       "      <td>101060</td>\n",
       "      <td>101753</td>\n",
       "      <td>101765</td>\n",
       "      <td>101764</td>\n",
       "      <td>101765</td>\n",
       "      <td>54755</td>\n",
       "      <td>78363</td>\n",
       "      <td>54864</td>\n",
       "    </tr>\n",
       "  </tbody>\n",
       "</table>\n",
       "<p>4 rows × 37 columns</p>\n",
       "</div>"
      ],
      "text/plain": [
       "             race  gender      age  weight payer_code medical_specialty  \\\n",
       "count      101766  101766   101766  101766     101766            101766   \n",
       "unique          6       3       10      10         18                73   \n",
       "top     Caucasian  Female  [70-80)       ?          ?                 ?   \n",
       "freq        76099   54708    26068   98569      40256             49949   \n",
       "\n",
       "        diag_1  diag_2  diag_3 max_glu_serum  ... citoglipton insulin  \\\n",
       "count   101766  101766  101766        101766  ...      101766  101766   \n",
       "unique     717     749     790             4  ...           1       4   \n",
       "top        428     276     250          None  ...          No      No   \n",
       "freq      6862    6752   11555         96420  ...      101766   47383   \n",
       "\n",
       "       glyburide-metformin glipizide-metformin glimepiride-pioglitazone  \\\n",
       "count               101766              101766                   101766   \n",
       "unique                   4                   2                        2   \n",
       "top                     No                  No                       No   \n",
       "freq                101060              101753                   101765   \n",
       "\n",
       "       metformin-rosiglitazone metformin-pioglitazone  change diabetesMed  \\\n",
       "count                   101766                 101766  101766      101766   \n",
       "unique                       2                      2       2           2   \n",
       "top                         No                     No      No         Yes   \n",
       "freq                    101764                 101765   54755       78363   \n",
       "\n",
       "       readmitted  \n",
       "count      101766  \n",
       "unique          3  \n",
       "top            NO  \n",
       "freq        54864  \n",
       "\n",
       "[4 rows x 37 columns]"
      ]
     },
     "execution_count": 9,
     "metadata": {},
     "output_type": "execute_result"
    }
   ],
   "source": [
    "df1.describe(include=['O'])"
   ]
  },
  {
   "cell_type": "markdown",
   "metadata": {},
   "source": [
    "From our basic statistics, '?' is the most frequent data point on the features: 'weight', 'payer_code' as well as 'medical_specialty'. This character indicates missing values and will therefore be converted to 'nan' value. We note that $97%$ of the 'weight' feature contains missing values (further inspection will be done on the next cell).  We also note that 'gender' is approximately evenly distributed."
   ]
  },
  {
   "cell_type": "code",
   "execution_count": 10,
   "metadata": {},
   "outputs": [
    {
     "data": {
      "text/plain": [
       "?            0.968585\n",
       "[75-100)     0.013128\n",
       "[50-75)      0.008814\n",
       "[100-125)    0.006142\n",
       "[125-150)    0.001425\n",
       "[25-50)      0.000953\n",
       "[0-25)       0.000472\n",
       "[150-175)    0.000344\n",
       "[175-200)    0.000108\n",
       ">200         0.000029\n",
       "Name: weight, dtype: float64"
      ]
     },
     "execution_count": 10,
     "metadata": {},
     "output_type": "execute_result"
    }
   ],
   "source": [
    "df1['weight'].value_counts()/len(df1)"
   ]
  },
  {
   "cell_type": "markdown",
   "metadata": {},
   "source": [
    "#### Convert '?' to nan"
   ]
  },
  {
   "cell_type": "code",
   "execution_count": 11,
   "metadata": {},
   "outputs": [
    {
     "data": {
      "text/html": [
       "<div>\n",
       "<style scoped>\n",
       "    .dataframe tbody tr th:only-of-type {\n",
       "        vertical-align: middle;\n",
       "    }\n",
       "\n",
       "    .dataframe tbody tr th {\n",
       "        vertical-align: top;\n",
       "    }\n",
       "\n",
       "    .dataframe thead th {\n",
       "        text-align: right;\n",
       "    }\n",
       "</style>\n",
       "<table border=\"1\" class=\"dataframe\">\n",
       "  <thead>\n",
       "    <tr style=\"text-align: right;\">\n",
       "      <th></th>\n",
       "      <th>race</th>\n",
       "      <th>gender</th>\n",
       "      <th>age</th>\n",
       "      <th>weight</th>\n",
       "      <th>payer_code</th>\n",
       "      <th>medical_specialty</th>\n",
       "      <th>diag_1</th>\n",
       "      <th>diag_2</th>\n",
       "      <th>diag_3</th>\n",
       "      <th>max_glu_serum</th>\n",
       "      <th>...</th>\n",
       "      <th>citoglipton</th>\n",
       "      <th>insulin</th>\n",
       "      <th>glyburide-metformin</th>\n",
       "      <th>glipizide-metformin</th>\n",
       "      <th>glimepiride-pioglitazone</th>\n",
       "      <th>metformin-rosiglitazone</th>\n",
       "      <th>metformin-pioglitazone</th>\n",
       "      <th>change</th>\n",
       "      <th>diabetesMed</th>\n",
       "      <th>readmitted</th>\n",
       "    </tr>\n",
       "  </thead>\n",
       "  <tbody>\n",
       "    <tr>\n",
       "      <th>count</th>\n",
       "      <td>99493</td>\n",
       "      <td>101766</td>\n",
       "      <td>101766</td>\n",
       "      <td>3197</td>\n",
       "      <td>61510</td>\n",
       "      <td>51817</td>\n",
       "      <td>101745</td>\n",
       "      <td>101408</td>\n",
       "      <td>100343</td>\n",
       "      <td>101766</td>\n",
       "      <td>...</td>\n",
       "      <td>101766</td>\n",
       "      <td>101766</td>\n",
       "      <td>101766</td>\n",
       "      <td>101766</td>\n",
       "      <td>101766</td>\n",
       "      <td>101766</td>\n",
       "      <td>101766</td>\n",
       "      <td>101766</td>\n",
       "      <td>101766</td>\n",
       "      <td>101766</td>\n",
       "    </tr>\n",
       "    <tr>\n",
       "      <th>unique</th>\n",
       "      <td>5</td>\n",
       "      <td>3</td>\n",
       "      <td>10</td>\n",
       "      <td>9</td>\n",
       "      <td>17</td>\n",
       "      <td>72</td>\n",
       "      <td>716</td>\n",
       "      <td>748</td>\n",
       "      <td>789</td>\n",
       "      <td>4</td>\n",
       "      <td>...</td>\n",
       "      <td>1</td>\n",
       "      <td>4</td>\n",
       "      <td>4</td>\n",
       "      <td>2</td>\n",
       "      <td>2</td>\n",
       "      <td>2</td>\n",
       "      <td>2</td>\n",
       "      <td>2</td>\n",
       "      <td>2</td>\n",
       "      <td>3</td>\n",
       "    </tr>\n",
       "    <tr>\n",
       "      <th>top</th>\n",
       "      <td>Caucasian</td>\n",
       "      <td>Female</td>\n",
       "      <td>[70-80)</td>\n",
       "      <td>[75-100)</td>\n",
       "      <td>MC</td>\n",
       "      <td>InternalMedicine</td>\n",
       "      <td>428</td>\n",
       "      <td>276</td>\n",
       "      <td>250</td>\n",
       "      <td>None</td>\n",
       "      <td>...</td>\n",
       "      <td>No</td>\n",
       "      <td>No</td>\n",
       "      <td>No</td>\n",
       "      <td>No</td>\n",
       "      <td>No</td>\n",
       "      <td>No</td>\n",
       "      <td>No</td>\n",
       "      <td>No</td>\n",
       "      <td>Yes</td>\n",
       "      <td>NO</td>\n",
       "    </tr>\n",
       "    <tr>\n",
       "      <th>freq</th>\n",
       "      <td>76099</td>\n",
       "      <td>54708</td>\n",
       "      <td>26068</td>\n",
       "      <td>1336</td>\n",
       "      <td>32439</td>\n",
       "      <td>14635</td>\n",
       "      <td>6862</td>\n",
       "      <td>6752</td>\n",
       "      <td>11555</td>\n",
       "      <td>96420</td>\n",
       "      <td>...</td>\n",
       "      <td>101766</td>\n",
       "      <td>47383</td>\n",
       "      <td>101060</td>\n",
       "      <td>101753</td>\n",
       "      <td>101765</td>\n",
       "      <td>101764</td>\n",
       "      <td>101765</td>\n",
       "      <td>54755</td>\n",
       "      <td>78363</td>\n",
       "      <td>54864</td>\n",
       "    </tr>\n",
       "  </tbody>\n",
       "</table>\n",
       "<p>4 rows × 37 columns</p>\n",
       "</div>"
      ],
      "text/plain": [
       "             race  gender      age    weight payer_code medical_specialty  \\\n",
       "count       99493  101766   101766      3197      61510             51817   \n",
       "unique          5       3       10         9         17                72   \n",
       "top     Caucasian  Female  [70-80)  [75-100)         MC  InternalMedicine   \n",
       "freq        76099   54708    26068      1336      32439             14635   \n",
       "\n",
       "        diag_1  diag_2  diag_3 max_glu_serum  ... citoglipton insulin  \\\n",
       "count   101745  101408  100343        101766  ...      101766  101766   \n",
       "unique     716     748     789             4  ...           1       4   \n",
       "top        428     276     250          None  ...          No      No   \n",
       "freq      6862    6752   11555         96420  ...      101766   47383   \n",
       "\n",
       "       glyburide-metformin glipizide-metformin glimepiride-pioglitazone  \\\n",
       "count               101766              101766                   101766   \n",
       "unique                   4                   2                        2   \n",
       "top                     No                  No                       No   \n",
       "freq                101060              101753                   101765   \n",
       "\n",
       "       metformin-rosiglitazone metformin-pioglitazone  change diabetesMed  \\\n",
       "count                   101766                 101766  101766      101766   \n",
       "unique                       2                      2       2           2   \n",
       "top                         No                     No      No         Yes   \n",
       "freq                    101764                 101765   54755       78363   \n",
       "\n",
       "       readmitted  \n",
       "count      101766  \n",
       "unique          3  \n",
       "top            NO  \n",
       "freq        54864  \n",
       "\n",
       "[4 rows x 37 columns]"
      ]
     },
     "execution_count": 11,
     "metadata": {},
     "output_type": "execute_result"
    }
   ],
   "source": [
    "df1 = df1.replace('?', np.nan)\n",
    "df1.describe(include=['O'])"
   ]
  },
  {
   "cell_type": "markdown",
   "metadata": {},
   "source": [
    "'?' has now been replaced with 'nan' which will make it easier to explore our dataset"
   ]
  },
  {
   "cell_type": "markdown",
   "metadata": {},
   "source": [
    "### Feature selection"
   ]
  },
  {
   "cell_type": "markdown",
   "metadata": {},
   "source": [
    "We use domain knowledge in order to to seletc our features. From the article \"Risk factors for readmission of inpatients with diabetes: A systematic review\", found on the website: https://www.sciencedirect.com/science/article/pii/S105687271831184X, they note that age and race are one of the most commonly identified risk factors that contribute to increased readmission rates amongst people discharged from hospital with diabetes. Factors that increase the risk of diabetes and would potentionally lead to readmission are: insulin resistance, glucose levels as well as ethinic backround(https://www.webmd.com/diabetes/guide/risk-factors-for-diabetes).  Diabetes happens more often in Hispanic/Latino Americans, African-Americans, Native Americans, Asian-Americans, Pacific Islanders, and Alaska natives. Using this information, we selected the following variables to explore: 'age', 'race', 'insulin','gender', 'max_glu_serum'."
   ]
  },
  {
   "cell_type": "code",
   "execution_count": 12,
   "metadata": {},
   "outputs": [],
   "source": [
    "features = ['age', 'race', 'insulin','gender', 'max_glu_serum']\n",
    "df_selected_features = df1[features]"
   ]
  },
  {
   "cell_type": "code",
   "execution_count": 13,
   "metadata": {},
   "outputs": [
    {
     "name": "stdout",
     "output_type": "stream",
     "text": [
      "\n",
      "age:\n",
      "\n",
      "[70-80)     26068\n",
      "[60-70)     22483\n",
      "[50-60)     17256\n",
      "[80-90)     17197\n",
      "[40-50)      9685\n",
      "[30-40)      3775\n",
      "[90-100)     2793\n",
      "[20-30)      1657\n",
      "[10-20)       691\n",
      "[0-10)        161\n",
      "Name: age, dtype: int64\n",
      "\n",
      "race:\n",
      "\n",
      "Caucasian          76099\n",
      "AfricanAmerican    19210\n",
      "Hispanic            2037\n",
      "Other               1506\n",
      "Asian                641\n",
      "Name: race, dtype: int64\n",
      "\n",
      "insulin:\n",
      "\n",
      "No        47383\n",
      "Steady    30849\n",
      "Down      12218\n",
      "Up        11316\n",
      "Name: insulin, dtype: int64\n",
      "\n",
      "gender:\n",
      "\n",
      "Female             54708\n",
      "Male               47055\n",
      "Unknown/Invalid        3\n",
      "Name: gender, dtype: int64\n",
      "\n",
      "max_glu_serum:\n",
      "\n",
      "None    96420\n",
      "Norm     2597\n",
      ">200     1485\n",
      ">300     1264\n",
      "Name: max_glu_serum, dtype: int64\n"
     ]
    }
   ],
   "source": [
    "for i in df_selected_features.columns:\n",
    "    print()\n",
    "    print(i + ':')\n",
    "    print()\n",
    "    print(df_selected_features[i].value_counts())"
   ]
  },
  {
   "cell_type": "code",
   "execution_count": 14,
   "metadata": {},
   "outputs": [
    {
     "data": {
      "text/html": [
       "<div>\n",
       "<style scoped>\n",
       "    .dataframe tbody tr th:only-of-type {\n",
       "        vertical-align: middle;\n",
       "    }\n",
       "\n",
       "    .dataframe tbody tr th {\n",
       "        vertical-align: top;\n",
       "    }\n",
       "\n",
       "    .dataframe thead th {\n",
       "        text-align: right;\n",
       "    }\n",
       "</style>\n",
       "<table border=\"1\" class=\"dataframe\">\n",
       "  <thead>\n",
       "    <tr style=\"text-align: right;\">\n",
       "      <th></th>\n",
       "      <th>age</th>\n",
       "      <th>race</th>\n",
       "      <th>insulin</th>\n",
       "      <th>gender</th>\n",
       "      <th>max_glu_serum</th>\n",
       "    </tr>\n",
       "  </thead>\n",
       "  <tbody>\n",
       "    <tr>\n",
       "      <th>0</th>\n",
       "      <td>0</td>\n",
       "      <td>2</td>\n",
       "      <td>1</td>\n",
       "      <td>0</td>\n",
       "      <td>2</td>\n",
       "    </tr>\n",
       "    <tr>\n",
       "      <th>1</th>\n",
       "      <td>1</td>\n",
       "      <td>2</td>\n",
       "      <td>3</td>\n",
       "      <td>0</td>\n",
       "      <td>2</td>\n",
       "    </tr>\n",
       "    <tr>\n",
       "      <th>2</th>\n",
       "      <td>2</td>\n",
       "      <td>0</td>\n",
       "      <td>1</td>\n",
       "      <td>0</td>\n",
       "      <td>2</td>\n",
       "    </tr>\n",
       "  </tbody>\n",
       "</table>\n",
       "</div>"
      ],
      "text/plain": [
       "   age  race  insulin  gender  max_glu_serum\n",
       "0    0     2        1       0              2\n",
       "1    1     2        3       0              2\n",
       "2    2     0        1       0              2"
      ]
     },
     "execution_count": 14,
     "metadata": {},
     "output_type": "execute_result"
    }
   ],
   "source": [
    "# Convert categorical features to numerical\n",
    "obj_df = df_selected_features.select_dtypes(include=['object']).copy()\n",
    "obj_df = obj_df.astype('category')\n",
    "\n",
    "for i in obj_df.columns:\n",
    "    obj_df[i] = obj_df[i].cat.codes\n",
    "\n",
    "obj_df.head(3)"
   ]
  },
  {
   "cell_type": "markdown",
   "metadata": {},
   "source": [
    "## Cleaning"
   ]
  },
  {
   "cell_type": "code",
   "execution_count": 15,
   "metadata": {},
   "outputs": [],
   "source": [
    "#  missing data\n",
    "df_missing_data = obj_df.loc[obj_df['race']==-1]"
   ]
  },
  {
   "cell_type": "code",
   "execution_count": 16,
   "metadata": {},
   "outputs": [
    {
     "data": {
      "text/plain": [
       "<matplotlib.axes._subplots.AxesSubplot at 0x2a8ed9436d0>"
      ]
     },
     "execution_count": 16,
     "metadata": {},
     "output_type": "execute_result"
    },
    {
     "data": {
      "image/png": "[encoded data removed]",
      "text/plain": [
       "<Figure size 432x288 with 1 Axes>"
      ]
     },
     "metadata": {
      "needs_background": "light"
     },
     "output_type": "display_data"
    }
   ],
   "source": [
    "#count of the genders in the missing data\n",
    "sns.countplot(x=df_missing_data['gender'], data=df_missing_data)"
   ]
  },
  {
   "cell_type": "code",
   "execution_count": 17,
   "metadata": {},
   "outputs": [
    {
     "data": {
      "text/plain": [
       "<matplotlib.axes._subplots.AxesSubplot at 0x2a8eda8cb80>"
      ]
     },
     "execution_count": 17,
     "metadata": {},
     "output_type": "execute_result"
    },
    {
     "data": {
      "image/png": "[encoded data removed]",
      "text/plain": [
       "<Figure size 432x288 with 1 Axes>"
      ]
     },
     "metadata": {
      "needs_background": "light"
     },
     "output_type": "display_data"
    }
   ],
   "source": [
    "# count of the age classes in the missing data\n",
    "sns.countplot(x=df_missing_data['age'], data=df_missing_data)"
   ]
  },
  {
   "cell_type": "code",
   "execution_count": 18,
   "metadata": {},
   "outputs": [
    {
     "data": {
      "text/plain": [
       "<matplotlib.axes._subplots.AxesSubplot at 0x2a8eda8c0d0>"
      ]
     },
     "execution_count": 18,
     "metadata": {},
     "output_type": "execute_result"
    },
    {
     "data": {
      "image/png": "[encoded data removed]",
      "text/plain": [
       "<Figure size 432x288 with 1 Axes>"
      ]
     },
     "metadata": {
      "needs_background": "light"
     },
     "output_type": "display_data"
    }
   ],
   "source": [
    "sns.countplot(x=df_missing_data['age'], hue=df_missing_data['gender'], data=df_missing_data)"
   ]
  },
  {
   "cell_type": "markdown",
   "metadata": {},
   "source": [
    "##### We looked at the gender and age because it societally it has become a very sensitive issue to discuss them. The answer may lie in those variables"
   ]
  },
  {
   "cell_type": "code",
   "execution_count": 19,
   "metadata": {},
   "outputs": [
    {
     "data": {
      "text/plain": [
       " 2    76099\n",
       " 0    19210\n",
       "-1     2273\n",
       " 3     2037\n",
       " 4     1506\n",
       " 1      641\n",
       "Name: race, dtype: int64"
      ]
     },
     "execution_count": 19,
     "metadata": {},
     "output_type": "execute_result"
    }
   ],
   "source": [
    "obj_df['race'].value_counts()"
   ]
  },
  {
   "cell_type": "markdown",
   "metadata": {},
   "source": [
    "- There are 2273 missing values for the feature we choose which is race\n",
    "- (2273/101766)*100 = 2.2335554114340743%. The missing data makes up a small portion of entire dataset."
   ]
  },
  {
   "cell_type": "markdown",
   "metadata": {},
   "source": [
    "##### Imputation - median substitution"
   ]
  },
  {
   "cell_type": "code",
   "execution_count": 20,
   "metadata": {},
   "outputs": [
    {
     "data": {
      "text/plain": [
       "2.0"
      ]
     },
     "execution_count": 20,
     "metadata": {},
     "output_type": "execute_result"
    }
   ],
   "source": [
    "#median with the '-1'\n",
    "obj_df['race'].median()"
   ]
  },
  {
   "cell_type": "code",
   "execution_count": 21,
   "metadata": {},
   "outputs": [
    {
     "data": {
      "text/plain": [
       "2.0"
      ]
     },
     "execution_count": 21,
     "metadata": {},
     "output_type": "execute_result"
    }
   ],
   "source": [
    "#median without the '-1'\n",
    "(obj_df.loc[obj_df['race']!=-1])['race'].median()"
   ]
  },
  {
   "cell_type": "code",
   "execution_count": 22,
   "metadata": {},
   "outputs": [],
   "source": [
    "df_copy_median = obj_df.copy()\n",
    "#inserting the median\n",
    "df_copy_median.loc[df_copy_median['race'] == -1, 'race'] = 2"
   ]
  },
  {
   "cell_type": "code",
   "execution_count": 23,
   "metadata": {},
   "outputs": [
    {
     "data": {
      "text/plain": [
       "(                 age           race        insulin         gender  \\\n",
       " count  101766.000000  101766.000000  101766.000000  101766.000000   \n",
       " mean        6.096702       1.665782       1.405469       0.462443   \n",
       " std         1.594084       0.853745       0.838798       0.498649   \n",
       " min         0.000000       0.000000       0.000000       0.000000   \n",
       " 25%         5.000000       2.000000       1.000000       0.000000   \n",
       " 50%         6.000000       2.000000       1.000000       0.000000   \n",
       " 75%         7.000000       2.000000       2.000000       1.000000   \n",
       " max         9.000000       4.000000       3.000000       2.000000   \n",
       " \n",
       "        max_glu_serum  \n",
       " count  101766.000000  \n",
       " mean        1.983914  \n",
       " std         0.309922  \n",
       " min         0.000000  \n",
       " 25%         2.000000  \n",
       " 50%         2.000000  \n",
       " 75%         2.000000  \n",
       " max         3.000000  ,\n",
       "                  age           race        insulin         gender  \\\n",
       " count  101766.000000  101766.000000  101766.000000  101766.000000   \n",
       " mean        6.096702       1.598776       1.405469       0.462443   \n",
       " std         1.594084       0.938415       0.838798       0.498649   \n",
       " min         0.000000      -1.000000       0.000000       0.000000   \n",
       " 25%         5.000000       2.000000       1.000000       0.000000   \n",
       " 50%         6.000000       2.000000       1.000000       0.000000   \n",
       " 75%         7.000000       2.000000       2.000000       1.000000   \n",
       " max         9.000000       4.000000       3.000000       2.000000   \n",
       " \n",
       "        max_glu_serum  \n",
       " count  101766.000000  \n",
       " mean        1.983914  \n",
       " std         0.309922  \n",
       " min         0.000000  \n",
       " 25%         2.000000  \n",
       " 50%         2.000000  \n",
       " 75%         2.000000  \n",
       " max         3.000000  )"
      ]
     },
     "execution_count": 23,
     "metadata": {},
     "output_type": "execute_result"
    }
   ],
   "source": [
    "# Checking the overrall impact of the modification.\n",
    "df_copy_median.describe(),obj_df.describe()"
   ]
  },
  {
   "cell_type": "code",
   "execution_count": 42,
   "metadata": {},
   "outputs": [
    {
     "data": {
      "text/plain": [
       "<matplotlib.axes._subplots.AxesSubplot at 0x2a8f549fa60>"
      ]
     },
     "execution_count": 42,
     "metadata": {},
     "output_type": "execute_result"
    },
    {
     "data": {
      "image/png": "[encoded data removed]",
      "text/plain": [
       "<Figure size 432x288 with 1 Axes>"
      ]
     },
     "metadata": {},
     "output_type": "display_data"
    }
   ],
   "source": [
    "sns.countplot(x=df_copy_median['age'], hue=df_copy_median['gender'], data=df_copy_median)"
   ]
  },
  {
   "cell_type": "code",
   "execution_count": 43,
   "metadata": {},
   "outputs": [
    {
     "data": {
      "image/png": "[encoded data removed]",
      "text/plain": [
       "<Figure size 432x288 with 1 Axes>"
      ]
     },
     "metadata": {},
     "output_type": "display_data"
    }
   ],
   "source": [
    "ax = sns.distplot(df_copy_median['age'], fit=norm, kde=True)\n"
   ]
  },
  {
   "cell_type": "markdown",
   "metadata": {},
   "source": [
    "#### imputation - Deletion"
   ]
  },
  {
   "cell_type": "code",
   "execution_count": 24,
   "metadata": {},
   "outputs": [],
   "source": [
    "df_copy_delete = obj_df.copy()"
   ]
  },
  {
   "cell_type": "code",
   "execution_count": 25,
   "metadata": {},
   "outputs": [],
   "source": [
    "#delete the missing values\n",
    "df_copy_delete = df_copy_delete[df_copy_delete.race != -1]"
   ]
  },
  {
   "cell_type": "code",
   "execution_count": 26,
   "metadata": {},
   "outputs": [
    {
     "data": {
      "text/plain": [
       "(                age          race       insulin        gender  max_glu_serum\n",
       " count  99493.000000  99493.000000  99493.000000  99493.000000   99493.000000\n",
       " mean       6.095534      1.658147      1.401787      0.461530       1.983778\n",
       " std        1.594366      0.861930      0.839414      0.498541       0.311627\n",
       " min        0.000000      0.000000      0.000000      0.000000       0.000000\n",
       " 25%        5.000000      2.000000      1.000000      0.000000       2.000000\n",
       " 50%        6.000000      2.000000      1.000000      0.000000       2.000000\n",
       " 75%        7.000000      2.000000      2.000000      1.000000       2.000000\n",
       " max        9.000000      4.000000      3.000000      2.000000       3.000000,\n",
       "                  age           race        insulin         gender  \\\n",
       " count  101766.000000  101766.000000  101766.000000  101766.000000   \n",
       " mean        6.096702       1.598776       1.405469       0.462443   \n",
       " std         1.594084       0.938415       0.838798       0.498649   \n",
       " min         0.000000      -1.000000       0.000000       0.000000   \n",
       " 25%         5.000000       2.000000       1.000000       0.000000   \n",
       " 50%         6.000000       2.000000       1.000000       0.000000   \n",
       " 75%         7.000000       2.000000       2.000000       1.000000   \n",
       " max         9.000000       4.000000       3.000000       2.000000   \n",
       " \n",
       "        max_glu_serum  \n",
       " count  101766.000000  \n",
       " mean        1.983914  \n",
       " std         0.309922  \n",
       " min         0.000000  \n",
       " 25%         2.000000  \n",
       " 50%         2.000000  \n",
       " 75%         2.000000  \n",
       " max         3.000000  )"
      ]
     },
     "execution_count": 26,
     "metadata": {},
     "output_type": "execute_result"
    }
   ],
   "source": [
    "# Checking the overrall impact of the modification.\n",
    "df_copy_delete.describe() , obj_df.describe()"
   ]
  },
  {
   "cell_type": "code",
   "execution_count": 38,
   "metadata": {},
   "outputs": [
    {
     "data": {
      "text/plain": [
       "<matplotlib.axes._subplots.AxesSubplot at 0x2a8ef2087c0>"
      ]
     },
     "execution_count": 38,
     "metadata": {},
     "output_type": "execute_result"
    },
    {
     "data": {
      "image/png": "[encoded data removed]",
      "text/plain": [
       "<Figure size 432x288 with 1 Axes>"
      ]
     },
     "metadata": {},
     "output_type": "display_data"
    }
   ],
   "source": [
    "sns.countplot(x=df_copy_delete['age'], hue=df_copy_delete['gender'], data=df_copy_delete)"
   ]
  },
  {
   "cell_type": "code",
   "execution_count": 41,
   "metadata": {},
   "outputs": [
    {
     "data": {
      "image/png": "[encoded data removed]",
      "text/plain": [
       "<Figure size 432x288 with 1 Axes>"
      ]
     },
     "metadata": {},
     "output_type": "display_data"
    }
   ],
   "source": [
    "ax = sns.distplot(df_copy_delete['age'], fit=norm, kde=True)"
   ]
  },
  {
   "cell_type": "markdown",
   "metadata": {},
   "source": [
    "### Summary\n",
    "#### Median Substitution\n",
    "- We used the median because it gave us integer values unlike the mean where we had real number which would not suit our integer values in the dataset. We have a somewhat skewed distribution.\n",
    "- The advantages of using the median to fill in the missing data is that we are not using a foreign data, we are using measures of central tendency that often try identifying the central point in the data. \n",
    "- The disadvantage of using the median to fill in the missing data is that it reduces the variance and has the ability to obscure important features of the sampled data. The standard deveviation of race dropped from 0.938415 to 0.853745.\n",
    "- from the above observation the median remains the same with and without the dummy values.\n",
    "- The mean of race increased from the data with null values to the one we used median to substitute them. It move from 1.598776 to 1.598776\n",
    "#### Deletion\n",
    "- The advanatage is that we are not introducing any new variables that might affect the distrubution of the data differently.\n",
    "- The disadvantage is that we might be losing valuable data when we remove it. The standard deviation of race dropped from 0.938415 to 0.861930\n",
    "- The mean of race increased from the data with null values to the one where we deleted them. It move from 1.598776 to to 1.658147"
   ]
  },
  {
   "cell_type": "markdown",
   "metadata": {},
   "source": [
    "# EDA"
   ]
  },
  {
   "cell_type": "markdown",
   "metadata": {},
   "source": [
    "In this section we will present plots for the selected features as well discuss the plots generated. We will also investigate correlations between variables by providing a correlation heatmap. "
   ]
  },
  {
   "cell_type": "code",
   "execution_count": 27,
   "metadata": {},
   "outputs": [],
   "source": [
    "# function for bar plot\n",
    "def bar_plot(df, variable, ylabel, xlabel, title):    \n",
    "    plt.figure(figsize = (10,6))\n",
    "    (df[variable].value_counts().sort_index()/len(df)).plot(kind='bar')\n",
    "    plt.ylabel(ylabel)\n",
    "    plt.title(title)\n",
    "    plt.xlabel(xlabel)\n",
    "    plt.show()"
   ]
  },
  {
   "cell_type": "markdown",
   "metadata": {},
   "source": [
    "### Bar graphs"
   ]
  },
  {
   "cell_type": "code",
   "execution_count": 28,
   "metadata": {},
   "outputs": [
    {
     "data": {
      "image/png": "[encoded data removed]",
      "text/plain": [
       "<Figure size 720x432 with 1 Axes>"
      ]
     },
     "metadata": {
      "needs_background": "light"
     },
     "output_type": "display_data"
    }
   ],
   "source": [
    "bar_plot(df_selected_features, \"age\", \"Probabiliy\", \"age\", \"Distribution of 'Age' \")"
   ]
  },
  {
   "cell_type": "code",
   "execution_count": 29,
   "metadata": {},
   "outputs": [],
   "source": [
    "def plot_distribution(dataset, cols=2, width=20, height=20, hspace=0.45, wspace=0.5):\n",
    "    plt.style.use('seaborn-whitegrid')\n",
    "    fig = plt.figure(figsize=(width,height))\n",
    "    fig.subplots_adjust(left=None, bottom=None, right=None, top=None, wspace=wspace, hspace=hspace)\n",
    "    rows = math.ceil(float(dataset.shape[1]) / cols)\n",
    "    for i, column in enumerate(dataset.columns):\n",
    "        ax = fig.add_subplot(rows, cols, i + 1)\n",
    "        ax.set_title(column)\n",
    "        if dataset.dtypes[column] == np.object:\n",
    "            g = sns.countplot(y=column, data=dataset)\n",
    "            substrings = [s.get_text()[:18] for s in g.get_yticklabels()]\n",
    "            g.set(yticklabels=substrings)\n",
    "            plt.xticks(rotation=25)\n",
    "        else:\n",
    "            g = sns.distplot(dataset[column])\n",
    "            plt.xticks(rotation=25)"
   ]
  },
  {
   "cell_type": "code",
   "execution_count": 30,
   "metadata": {},
   "outputs": [
    {
     "data": {
      "image/png": "[encoded data removed]",
      "text/plain": [
       "<Figure size 1440x1440 with 5 Axes>"
      ]
     },
     "metadata": {},
     "output_type": "display_data"
    }
   ],
   "source": [
    "plot_distribution(df_selected_features)"
   ]
  },
  {
   "cell_type": "markdown",
   "metadata": {},
   "source": [
    "From the bar graphs above, we see that the age range 70-80 contains the most data points. We also see that caucasian are mostly affected by diabetics. These stats are also in line with the 'Statistics about diabetes' on https://www.diabetes.org/resources/statistics/statistics-about-diabetes#:~:text=Prevalence%3A%20In%202018%2C%2034.2%20million,of%20the%20population%2C%20had%20diabetes.&text=Undiagnosed%3A%20Of%20the%2034.2%20million,and%207.3%20million%20were%20undiagnosed.<br><br>\n",
    "We will now exame the relationshipn between age and gender"
   ]
  },
  {
   "cell_type": "code",
   "execution_count": 31,
   "metadata": {},
   "outputs": [
    {
     "data": {
      "text/plain": [
       "[[Text(0, 0, '[0-10)'),\n",
       "  Text(0, 0, '[10-20)'),\n",
       "  Text(0, 0, '[20-30)'),\n",
       "  Text(0, 0, '[30-40)'),\n",
       "  Text(0, 0, '[40-50)'),\n",
       "  Text(0, 0, '[50-60)'),\n",
       "  Text(0, 0, '[60-70)'),\n",
       "  Text(0, 0, '[70-80)')]]"
      ]
     },
     "execution_count": 31,
     "metadata": {},
     "output_type": "execute_result"
    },
    {
     "data": {
      "image/png": "[encoded data removed]",
      "text/plain": [
       "<Figure size 864x504 with 1 Axes>"
      ]
     },
     "metadata": {},
     "output_type": "display_data"
    }
   ],
   "source": [
    "# age comparisons\n",
    "ylabel_age = np.unique(df_selected_features['age']).tolist()\n",
    "plt.figure(figsize=(12,7))\n",
    "a = sns.distplot(obj_df.loc[df_selected_features['gender'] == 'Female']['age'], bins=10, kde=True, hist=False, label='Female')\n",
    "a = sns.distplot(obj_df.loc[df_selected_features['gender'] == 'Male']['age'], bins=10, kde=True, hist=False, label='Male')\n",
    "a.set(xticklabels=ylabel_age)\n",
    "\n"
   ]
  },
  {
   "cell_type": "markdown",
   "metadata": {},
   "source": [
    "From the above plot, we see that more males are affected by diabetes from the age group 30 to 40 but the rate drops from 50 onwards. We will now examine the relationship between age and insulin level"
   ]
  },
  {
   "cell_type": "code",
   "execution_count": 32,
   "metadata": {},
   "outputs": [
    {
     "data": {
      "text/plain": [
       "[[Text(0, 0, '[0-10)'),\n",
       "  Text(0, 0, '[10-20)'),\n",
       "  Text(0, 0, '[20-30)'),\n",
       "  Text(0, 0, '[30-40)'),\n",
       "  Text(0, 0, '[40-50)'),\n",
       "  Text(0, 0, '[50-60)'),\n",
       "  Text(0, 0, '[60-70)'),\n",
       "  Text(0, 0, '[70-80)')]]"
      ]
     },
     "execution_count": 32,
     "metadata": {},
     "output_type": "execute_result"
    },
    {
     "data": {
      "image/png": "[encoded data removed]",
      "text/plain": [
       "<Figure size 864x504 with 1 Axes>"
      ]
     },
     "metadata": {},
     "output_type": "display_data"
    }
   ],
   "source": [
    "# Insulin levels age\n",
    "plt.figure(figsize=(12,7))\n",
    "label_insulin = np.unique(df_selected_features['age']).tolist()\n",
    "insulinplot = sns.distplot(obj_df.loc[df_selected_features['insulin'] == 'Down']['age'], kde=True, hist=False, label='down')\n",
    "insulinplot = sns.distplot(obj_df.loc[df_selected_features['insulin'] == 'Up']['age'], kde=True, hist=False, label='Up')\n",
    "insulinplot.set(xticklabels=label_insulin)"
   ]
  },
  {
   "cell_type": "markdown",
   "metadata": {},
   "source": [
    "From the above plot, we see that insulin levels slightly increase as the patient gets older"
   ]
  },
  {
   "cell_type": "code",
   "execution_count": 33,
   "metadata": {},
   "outputs": [],
   "source": [
    "from statsmodels.graphics.gofplots import qqplot"
   ]
  },
  {
   "cell_type": "code",
   "execution_count": 34,
   "metadata": {},
   "outputs": [
    {
     "data": {
      "image/png": "[encoded data removed]",
      "text/plain": [
       "<Figure size 432x288 with 1 Axes>"
      ]
     },
     "execution_count": 34,
     "metadata": {},
     "output_type": "execute_result"
    },
    {
     "data": {
      "image/png": "[encoded data removed]",
      "text/plain": [
       "<Figure size 432x288 with 1 Axes>"
      ]
     },
     "metadata": {},
     "output_type": "display_data"
    }
   ],
   "source": [
    "qqplot(obj_df['insulin'])"
   ]
  },
  {
   "cell_type": "code",
   "execution_count": 35,
   "metadata": {},
   "outputs": [
    {
     "name": "stdout",
     "output_type": "stream",
     "text": [
      "Statistics=0.939, p=0.000\n",
      "Sample does not look Gaussian (reject H0)\n",
      "Statistics=0.641, p=0.000\n",
      "Sample does not look Gaussian (reject H0)\n",
      "Statistics=0.862, p=0.000\n",
      "Sample does not look Gaussian (reject H0)\n",
      "Statistics=0.635, p=0.000\n",
      "Sample does not look Gaussian (reject H0)\n",
      "Statistics=0.263, p=0.000\n",
      "Sample does not look Gaussian (reject H0)\n"
     ]
    },
    {
     "name": "stderr",
     "output_type": "stream",
     "text": [
      "C:\\ProgramData\\Anaconda3\\lib\\site-packages\\scipy\\stats\\morestats.py:1681: UserWarning: p-value may not be accurate for N > 5000.\n",
      "  warnings.warn(\"p-value may not be accurate for N > 5000.\")\n"
     ]
    }
   ],
   "source": [
    "# normality test\n",
    "from scipy.stats import shapiro\n",
    "for i in obj_df.columns:\n",
    "    stat, p = shapiro(obj_df[i])\n",
    "    print('Statistics=%.3f, p=%.3f' % (stat, p))\n",
    "    # interpret\n",
    "    alpha = 0.05\n",
    "    if p > alpha:\n",
    "        print('Sample looks Gaussian (fail to reject H0)')\n",
    "    else:\n",
    "        print('Sample does not look Gaussian (reject H0)')"
   ]
  },
  {
   "cell_type": "markdown",
   "metadata": {},
   "source": [
    "# Outliers"
   ]
  },
  {
   "cell_type": "markdown",
   "metadata": {},
   "source": [
    "Make use of KNN for outlier detection but will have to first one-hot encode the data"
   ]
  },
  {
   "cell_type": "markdown",
   "metadata": {},
   "source": [
    "#### One hot encoding"
   ]
  },
  {
   "cell_type": "code",
   "execution_count": 36,
   "metadata": {},
   "outputs": [],
   "source": [
    "Y = df.readmitted.astype('category').cat.codes.values\n",
    "onehot_encoder = OneHotEncoder(sparse=False)\n",
    "Xs = onehot_encoder.fit_transform(obj_df)\n",
    "X_train, X_test, y_train, y_test = train_test_split(Xs, Y, test_size=0.25, random_state=42)"
   ]
  },
  {
   "cell_type": "code",
   "execution_count": 37,
   "metadata": {},
   "outputs": [
    {
     "ename": "NameError",
     "evalue": "name 'ABOD' is not defined",
     "output_type": "error",
     "traceback": [
      "\u001b[1;31m---------------------------------------------------------------------------\u001b[0m",
      "\u001b[1;31mNameError\u001b[0m                                 Traceback (most recent call last)",
      "\u001b[1;32m<ipython-input-37-9f192c14d158>\u001b[0m in \u001b[0;36m<module>\u001b[1;34m\u001b[0m\n\u001b[0;32m      1\u001b[0m \u001b[0moutlier_fraction\u001b[0m \u001b[1;33m=\u001b[0m \u001b[1;36m0.1\u001b[0m\u001b[1;33m\u001b[0m\u001b[1;33m\u001b[0m\u001b[0m\n\u001b[0;32m      2\u001b[0m classifiers = {\n\u001b[1;32m----> 3\u001b[1;33m      \u001b[1;34m'Angle-based Outlier Detector (ABOD)'\u001b[0m   \u001b[1;33m:\u001b[0m \u001b[0mABOD\u001b[0m\u001b[1;33m(\u001b[0m\u001b[0mcontamination\u001b[0m\u001b[1;33m=\u001b[0m\u001b[0moutlier_fraction\u001b[0m\u001b[1;33m)\u001b[0m\u001b[1;33m\u001b[0m\u001b[1;33m\u001b[0m\u001b[0m\n\u001b[0m\u001b[0;32m      4\u001b[0m }\n\u001b[0;32m      5\u001b[0m \u001b[0mplt\u001b[0m\u001b[1;33m.\u001b[0m\u001b[0mfigure\u001b[0m\u001b[1;33m(\u001b[0m\u001b[0mfigsize\u001b[0m\u001b[1;33m=\u001b[0m\u001b[1;33m(\u001b[0m\u001b[1;36m10\u001b[0m\u001b[1;33m,\u001b[0m \u001b[1;36m10\u001b[0m\u001b[1;33m)\u001b[0m\u001b[1;33m)\u001b[0m\u001b[1;33m\u001b[0m\u001b[1;33m\u001b[0m\u001b[0m\n",
      "\u001b[1;31mNameError\u001b[0m: name 'ABOD' is not defined"
     ]
    }
   ],
   "source": [
    "outlier_fraction = 0.1\n",
    "classifiers = {\n",
    "     'Angle-based Outlier Detector (ABOD)'   : ABOD(contamination=outlier_fraction)\n",
    "}\n",
    "plt.figure(figsize=(10, 10))\n",
    "xx , yy = np.meshgrid(np.linspace(-10, 10, 76324), np.linspace(-10, 10, 27))\n",
    "for i, (clf_name,clf) in enumerate(classifiers.items()) :\n",
    "    # fit the dataset to the model\n",
    "    clf.fit(X_train)\n",
    "\n",
    "    # predict raw anomaly score\n",
    "    scores_pred = clf.decision_function(X_train)*-1\n",
    "\n",
    "    # prediction of a datapoint category outlier or inlier\n",
    "    y_pred = clf.predict(X_train)\n",
    "\n",
    "    # no of errors in prediction\n",
    "    n_errors = (y_pred != y_train).sum()\n",
    "    print('No of Errors : ',clf_name, n_errors)\n",
    "\n",
    "    # rest of the code is to create the visualization\n",
    "\n",
    "    # threshold value to consider a datapoint inlier or outlier\n",
    "    threshold = stats.scoreatpercentile(scores_pred,100 *outlier_fraction)\n",
    "\n",
    "    # decision function calculates the raw anomaly score for every point\n",
    "    Z = clf.decision_function(np.c_[xx.ravel(), yy.ravel()]) * -1\n",
    "    Z = Z.reshape(xx.shape)\n",
    "\n",
    "    subplot = plt.subplot(1, 2, i + 1)\n",
    "\n",
    "    # fill blue colormap from minimum anomaly score to threshold value\n",
    "    subplot.contourf(xx, yy, Z, levels = np.linspace(Z.min(), threshold, 10),cmap=plt.cm.Blues_r)\n",
    "\n",
    "    # draw red contour line where anomaly score is equal to threshold\n",
    "    a = subplot.contour(xx, yy, Z, levels=[threshold],linewidths=2, colors='red')\n",
    "\n",
    "    # fill orange contour lines where range of anomaly score is from threshold to maximum anomaly score\n",
    "    subplot.contourf(xx, yy, Z, levels=[threshold, Z.max()],colors='orange')\n",
    "\n",
    "    # scatter plot of inliers with white dots\n",
    "    b = subplot.scatter(X_train[:-n_outliers, 0], X_train[:-n_outliers, 1], c='white',s=20, edgecolor='k') \n",
    "    # scatter plot of outliers with black dots\n",
    "    c = subplot.scatter(X_train[-n_outliers:, 0], X_train[-n_outliers:, 1], c='black',s=20, edgecolor='k')\n",
    "    subplot.axis('tight')\n",
    "\n",
    "    subplot.legend(\n",
    "        [a.collections[0], b, c],\n",
    "        ['learned decision function', 'true inliers', 'true outliers'],\n",
    "        prop=matplotlib.font_manager.FontProperties(size=10),\n",
    "        loc='lower right')\n",
    "\n",
    "    subplot.set_title(clf_name)\n",
    "    subplot.set_xlim((-10, 10))\n",
    "    subplot.set_ylim((-10, 10))\n",
    "plt.show() \n"
   ]
  }
 ],
 "metadata": {
  "kernelspec": {
   "display_name": "Python 3",
   "language": "python",
   "name": "python3"
  },
  "language_info": {
   "codemirror_mode": {
    "name": "ipython",
    "version": 3
   },
   "file_extension": ".py",
   "mimetype": "text/x-python",
   "name": "python",
   "nbconvert_exporter": "python",
   "pygments_lexer": "ipython3",
   "version": "3.8.3"
  }
 },
 "nbformat": 4,
 "nbformat_minor": 4
}
